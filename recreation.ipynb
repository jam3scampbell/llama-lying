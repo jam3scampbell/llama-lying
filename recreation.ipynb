{
 "cells": [
  {
   "cell_type": "code",
   "execution_count": 1,
   "metadata": {},
   "outputs": [],
   "source": [
    "from utils.new_probing_utils import ModelActsLargeSimple"
   ]
  },
  {
   "cell_type": "code",
   "execution_count": 2,
   "metadata": {},
   "outputs": [],
   "source": [
    "honest_modelact = ModelActsLargeSimple(\"data/large_run_1410/activations/\")\n",
    "liar_modelact = ModelActsLargeSimple()"
   ]
  },
  {
   "cell_type": "code",
   "execution_count": null,
   "metadata": {},
   "outputs": [],
   "source": [
    "def return_to_original_cache_format(reformatted_cache):\n",
    "    \"\"\"\n",
    "    reformatted_cache is dictionary of layer_idx: tensor, where tensor is shape (n_samples, seq_len, d_model)\n",
    "    Convert to dictionary of {idx: tensor}, where tensor is shape (seq_len, n_layers, d_model)\n",
    "    \"\"\"\n",
    "    n_samples = reformatted_cache[0].shape[0]\n",
    "    seq_len = reformatted_cache[0].shape[1]\n",
    "    d_model = reformatted_cache[0].shape[2]\n",
    "    original_cache = {}\n",
    "    for sample in range(n_samples):\n",
    "        original_cache[sample] = torch.zeros((seq_len, n_layers, d_model))\n",
    "        for layer in range(n_layers):\n",
    "            original_cache[sample][:, layer, :] = reformatted_cache[layer][sample,:,:]\n",
    "    return original_cache"
   ]
  }
 ],
 "metadata": {
  "kernelspec": {
   "display_name": "lll",
   "language": "python",
   "name": "python3"
  },
  "language_info": {
   "codemirror_mode": {
    "name": "ipython",
    "version": 3
   },
   "file_extension": ".py",
   "mimetype": "text/x-python",
   "name": "python",
   "nbconvert_exporter": "python",
   "pygments_lexer": "ipython3",
   "version": "3.9.19"
  }
 },
 "nbformat": 4,
 "nbformat_minor": 2
}
